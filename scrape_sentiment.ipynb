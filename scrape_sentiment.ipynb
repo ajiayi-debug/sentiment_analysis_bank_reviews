{
 "cells": [
  {
   "cell_type": "code",
   "execution_count": 1,
   "metadata": {},
   "outputs": [
    {
     "name": "stderr",
     "output_type": "stream",
     "text": [
      "/Users/leeeda/Library/Python/3.9/lib/python/site-packages/urllib3/__init__.py:35: NotOpenSSLWarning: urllib3 v2 only supports OpenSSL 1.1.1+, currently the 'ssl' module is compiled with 'LibreSSL 2.8.3'. See: https://github.com/urllib3/urllib3/issues/3020\n",
      "  warnings.warn(\n",
      "/Users/leeeda/Library/Python/3.9/lib/python/site-packages/tqdm/auto.py:21: TqdmWarning: IProgress not found. Please update jupyter and ipywidgets. See https://ipywidgets.readthedocs.io/en/stable/user_install.html\n",
      "  from .autonotebook import tqdm as notebook_tqdm\n"
     ]
    }
   ],
   "source": [
    "from keybert import KeyBERT\n",
    "from transformers import pipeline\n",
    "import pandas as pd\n",
    "import seaborn as sns\n",
    "import pandas as pd"
   ]
  },
  {
   "cell_type": "code",
   "execution_count": 2,
   "metadata": {},
   "outputs": [],
   "source": [
    "dataset = pd.read_csv('combined_reviews.csv', index_col=0)"
   ]
  },
  {
   "cell_type": "code",
   "execution_count": 3,
   "metadata": {},
   "outputs": [
    {
     "data": {
      "text/html": [
       "<div>\n",
       "<style scoped>\n",
       "    .dataframe tbody tr th:only-of-type {\n",
       "        vertical-align: middle;\n",
       "    }\n",
       "\n",
       "    .dataframe tbody tr th {\n",
       "        vertical-align: top;\n",
       "    }\n",
       "\n",
       "    .dataframe thead th {\n",
       "        text-align: right;\n",
       "    }\n",
       "</style>\n",
       "<table border=\"1\" class=\"dataframe\">\n",
       "  <thead>\n",
       "    <tr style=\"text-align: right;\">\n",
       "      <th></th>\n",
       "      <th>replyContent</th>\n",
       "      <th>score</th>\n",
       "      <th>content</th>\n",
       "      <th>thumbsUpCount</th>\n",
       "    </tr>\n",
       "  </thead>\n",
       "  <tbody>\n",
       "    <tr>\n",
       "      <th>0</th>\n",
       "      <td>Hey Jiaxing! Hope you love the new \"Favourites...</td>\n",
       "      <td>5</td>\n",
       "      <td>Gxs is simple and easy to use, with a saving a...</td>\n",
       "      <td>13</td>\n",
       "    </tr>\n",
       "    <tr>\n",
       "      <th>1</th>\n",
       "      <td>We apologize for the inconvenience you had to ...</td>\n",
       "      <td>3</td>\n",
       "      <td>It always ask for finger identification even t...</td>\n",
       "      <td>0</td>\n",
       "    </tr>\n",
       "    <tr>\n",
       "      <th>2</th>\n",
       "      <td>Hi Sean, we understand your concern and we wou...</td>\n",
       "      <td>1</td>\n",
       "      <td>What I've installed on my phone is none of you...</td>\n",
       "      <td>0</td>\n",
       "    </tr>\n",
       "    <tr>\n",
       "      <th>3</th>\n",
       "      <td>Hi Xiangqing, we'd love to look into this for ...</td>\n",
       "      <td>1</td>\n",
       "      <td>cant logging using finger print . previously s...</td>\n",
       "      <td>0</td>\n",
       "    </tr>\n",
       "    <tr>\n",
       "      <th>4</th>\n",
       "      <td>Hi Matt, thanks for reaching out! If you are r...</td>\n",
       "      <td>1</td>\n",
       "      <td>For 1st time registration signup by singpass a...</td>\n",
       "      <td>0</td>\n",
       "    </tr>\n",
       "  </tbody>\n",
       "</table>\n",
       "</div>"
      ],
      "text/plain": [
       "                                        replyContent  score  \\\n",
       "0  Hey Jiaxing! Hope you love the new \"Favourites...      5   \n",
       "1  We apologize for the inconvenience you had to ...      3   \n",
       "2  Hi Sean, we understand your concern and we wou...      1   \n",
       "3  Hi Xiangqing, we'd love to look into this for ...      1   \n",
       "4  Hi Matt, thanks for reaching out! If you are r...      1   \n",
       "\n",
       "                                             content  thumbsUpCount  \n",
       "0  Gxs is simple and easy to use, with a saving a...             13  \n",
       "1  It always ask for finger identification even t...              0  \n",
       "2  What I've installed on my phone is none of you...              0  \n",
       "3  cant logging using finger print . previously s...              0  \n",
       "4  For 1st time registration signup by singpass a...              0  "
      ]
     },
     "execution_count": 3,
     "metadata": {},
     "output_type": "execute_result"
    }
   ],
   "source": [
    "dataset.head()"
   ]
  },
  {
   "cell_type": "code",
   "execution_count": 4,
   "metadata": {},
   "outputs": [],
   "source": [
    "sa_model = 'ajiayi/finetuning-sentiment-model-bank_reviews-otherbank'\n",
    "sentiment_pipeline = pipeline(\"sentiment-analysis\", model=sa_model)"
   ]
  },
  {
   "cell_type": "code",
   "execution_count": 5,
   "metadata": {},
   "outputs": [],
   "source": [
    "ke_model = KeyBERT()"
   ]
  },
  {
   "cell_type": "code",
   "execution_count": 6,
   "metadata": {},
   "outputs": [
    {
     "data": {
      "text/plain": [
       "[('rating', 0.5417),\n",
       " ('ratings', 0.4779),\n",
       " ('rate', 0.3851),\n",
       " ('app', 0.3224),\n",
       " ('unfair', 0.1467)]"
      ]
     },
     "execution_count": 6,
     "metadata": {},
     "output_type": "execute_result"
    }
   ],
   "source": [
    "ke_model.extract_keywords(dataset.content[50])"
   ]
  },
  {
   "cell_type": "code",
   "execution_count": 7,
   "metadata": {},
   "outputs": [],
   "source": [
    "sentiment = []\n",
    "keywords = []\n",
    "\n",
    "for index, row in dataset.iterrows():\n",
    "    s = sentiment_pipeline(row['content'])[0]['label']\n",
    "    sentiment.append(s)\n",
    "    k = ke_model.extract_keywords(row['content'])\n",
    "    k = [i[0] for i in k]\n",
    "    keywords.append(k)\n",
    "\n",
    "dataset['sentiment'] = sentiment\n",
    "dataset['keywords'] = keywords"
   ]
  },
  {
   "cell_type": "code",
   "execution_count": 8,
   "metadata": {},
   "outputs": [
    {
     "data": {
      "text/html": [
       "<div>\n",
       "<style scoped>\n",
       "    .dataframe tbody tr th:only-of-type {\n",
       "        vertical-align: middle;\n",
       "    }\n",
       "\n",
       "    .dataframe tbody tr th {\n",
       "        vertical-align: top;\n",
       "    }\n",
       "\n",
       "    .dataframe thead th {\n",
       "        text-align: right;\n",
       "    }\n",
       "</style>\n",
       "<table border=\"1\" class=\"dataframe\">\n",
       "  <thead>\n",
       "    <tr style=\"text-align: right;\">\n",
       "      <th></th>\n",
       "      <th>replyContent</th>\n",
       "      <th>score</th>\n",
       "      <th>content</th>\n",
       "      <th>thumbsUpCount</th>\n",
       "      <th>sentiment</th>\n",
       "      <th>keywords</th>\n",
       "    </tr>\n",
       "  </thead>\n",
       "  <tbody>\n",
       "    <tr>\n",
       "      <th>0</th>\n",
       "      <td>Hey Jiaxing! Hope you love the new \"Favourites...</td>\n",
       "      <td>5</td>\n",
       "      <td>Gxs is simple and easy to use, with a saving a...</td>\n",
       "      <td>13</td>\n",
       "      <td>POSITIVE</td>\n",
       "      <td>[gxs, funds, debit, investment, card]</td>\n",
       "    </tr>\n",
       "    <tr>\n",
       "      <th>1</th>\n",
       "      <td>We apologize for the inconvenience you had to ...</td>\n",
       "      <td>3</td>\n",
       "      <td>It always ask for finger identification even t...</td>\n",
       "      <td>0</td>\n",
       "      <td>NEGATIVE</td>\n",
       "      <td>[finger, identification, ask, given]</td>\n",
       "    </tr>\n",
       "    <tr>\n",
       "      <th>2</th>\n",
       "      <td>Hi Sean, we understand your concern and we wou...</td>\n",
       "      <td>1</td>\n",
       "      <td>What I've installed on my phone is none of you...</td>\n",
       "      <td>0</td>\n",
       "      <td>NEGATIVE</td>\n",
       "      <td>[apps, app, whitelist, phone, using]</td>\n",
       "    </tr>\n",
       "    <tr>\n",
       "      <th>3</th>\n",
       "      <td>Hi Xiangqing, we'd love to look into this for ...</td>\n",
       "      <td>1</td>\n",
       "      <td>cant logging using finger print . previously s...</td>\n",
       "      <td>0</td>\n",
       "      <td>NEGATIVE</td>\n",
       "      <td>[logging, finger, print, update, using]</td>\n",
       "    </tr>\n",
       "    <tr>\n",
       "      <th>4</th>\n",
       "      <td>Hi Matt, thanks for reaching out! If you are r...</td>\n",
       "      <td>1</td>\n",
       "      <td>For 1st time registration signup by singpass a...</td>\n",
       "      <td>0</td>\n",
       "      <td>NEGATIVE</td>\n",
       "      <td>[singpass, signup, registration, denied, appli...</td>\n",
       "    </tr>\n",
       "  </tbody>\n",
       "</table>\n",
       "</div>"
      ],
      "text/plain": [
       "                                        replyContent  score  \\\n",
       "0  Hey Jiaxing! Hope you love the new \"Favourites...      5   \n",
       "1  We apologize for the inconvenience you had to ...      3   \n",
       "2  Hi Sean, we understand your concern and we wou...      1   \n",
       "3  Hi Xiangqing, we'd love to look into this for ...      1   \n",
       "4  Hi Matt, thanks for reaching out! If you are r...      1   \n",
       "\n",
       "                                             content  thumbsUpCount sentiment  \\\n",
       "0  Gxs is simple and easy to use, with a saving a...             13  POSITIVE   \n",
       "1  It always ask for finger identification even t...              0  NEGATIVE   \n",
       "2  What I've installed on my phone is none of you...              0  NEGATIVE   \n",
       "3  cant logging using finger print . previously s...              0  NEGATIVE   \n",
       "4  For 1st time registration signup by singpass a...              0  NEGATIVE   \n",
       "\n",
       "                                            keywords  \n",
       "0              [gxs, funds, debit, investment, card]  \n",
       "1               [finger, identification, ask, given]  \n",
       "2               [apps, app, whitelist, phone, using]  \n",
       "3            [logging, finger, print, update, using]  \n",
       "4  [singpass, signup, registration, denied, appli...  "
      ]
     },
     "execution_count": 8,
     "metadata": {},
     "output_type": "execute_result"
    }
   ],
   "source": [
    "dataset.head()"
   ]
  },
  {
   "cell_type": "code",
   "execution_count": 9,
   "metadata": {},
   "outputs": [],
   "source": [
    "dataset.to_csv('sentiment_data.csv')"
   ]
  }
 ],
 "metadata": {
  "kernelspec": {
   "display_name": "Python 3",
   "language": "python",
   "name": "python3"
  },
  "language_info": {
   "codemirror_mode": {
    "name": "ipython",
    "version": 3
   },
   "file_extension": ".py",
   "mimetype": "text/x-python",
   "name": "python",
   "nbconvert_exporter": "python",
   "pygments_lexer": "ipython3",
   "version": "3.9.6"
  }
 },
 "nbformat": 4,
 "nbformat_minor": 2
}
