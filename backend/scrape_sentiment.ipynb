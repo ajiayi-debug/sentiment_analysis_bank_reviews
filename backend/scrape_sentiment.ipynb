{
 "cells": [
  {
   "cell_type": "code",
   "execution_count": 3,
   "metadata": {},
   "outputs": [],
   "source": [
    "from keybert import KeyBERT\n",
    "from transformers import pipeline\n",
    "import pandas as pd\n",
    "import seaborn as sns\n",
    "import pandas as pd\n",
    "import mysql.connector\n",
    "import json\n",
    "from sqlalchemy import create_engine"
   ]
  },
  {
   "cell_type": "code",
   "execution_count": 4,
   "metadata": {},
   "outputs": [
    {
     "name": "stderr",
     "output_type": "stream",
     "text": [
      "C:\\Users\\AngJi\\AppData\\Local\\Temp\\ipykernel_30796\\3134596842.py:11: UserWarning: pandas only supports SQLAlchemy connectable (engine/connection) or database string URI or sqlite3 DBAPI2 connection. Other DBAPI2 objects are not tested. Please consider using SQLAlchemy.\n",
      "  dataset = pd.read_sql(query, con=cnx)\n"
     ]
    }
   ],
   "source": [
    "# Load database configuration from JSON file\n",
    "with open('config.json') as config_file:\n",
    "    config = json.load(config_file)['database']\n",
    "\n",
    "# Establish a connection using the loaded configuration\n",
    "cnx = mysql.connector.connect(**config)\n",
    "\n",
    "# Define your query\n",
    "query = f\"SELECT * FROM gxs_apple_app_reviews\"\n",
    "\n",
    "# Use pandas to load sql query into a DataFrame\n",
    "gxsapple = pd.read_sql(query, con=cnx)\n",
    "\n",
    "# Don't forget to close the connection when done\n",
    "cnx.close()"
   ]
  },
  {
   "cell_type": "code",
   "execution_count": null,
   "metadata": {},
   "outputs": [],
   "source": [
    "# Load database configuration from JSON file\n",
    "with open('config.json') as config_file:\n",
    "    config = json.load(config_file)['database']\n",
    "\n",
    "# Establish a connection using the loaded configuration\n",
    "cnx = mysql.connector.connect(**config)\n",
    "\n",
    "# Define your query\n",
    "query = f\"SELECT * FROM gxs_playstore_app_reviews\"\n",
    "\n",
    "# Use pandas to load sql query into a DataFrame\n",
    "gxsplaystore = pd.read_sql(query, con=cnx)\n",
    "\n",
    "# Don't forget to close the connection when done\n",
    "cnx.close()"
   ]
  },
  {
   "cell_type": "code",
   "execution_count": null,
   "metadata": {},
   "outputs": [],
   "source": [
    "gxsapple['title_review'] = gxsapple['title'] + ' : ' + gxsapple['review']\n",
    "\n",
    "gxsapple['thumbsUp']= 0\n",
    "\n",
    "gxsapple['developerResponse'] = gxsapple['developerResponse'].apply(lambda x: x.get('body') if isinstance(x, dict) else x)\n",
    "gxsapple['developerResponse'] = gxsapple['developerResponse'].str.replace(r\"\\{'id': \\d+, 'body':\", \"\", regex=True)\n",
    "gxsapple['developerResponse']=gxsapple['developerResponse'].str.rstrip(\"}\")\n",
    "gxsapple['developerResponse'] = gxsapple['developerResponse'].str.replace('\"', '', regex=False)\n",
    "gxsapple['developerResponse'] = gxsapple['developerResponse'].str.replace(\"'\", '', regex=False)\n",
    "\n",
    "gxsapple_dropped = gxsapple.drop(columns=['title', 'review', 'userName', 'isEdited'])\n",
    "\n",
    "gxsplaystore_dropped=gxsplaystore.drop(columns=['reviewId','userName','userImage','reviewCreatedVersion','repliedAt','appVersion'])\n",
    "neworder=['replyContent', 'score', 'content', 'thumbsUpCount', 'at']\n",
    "gxsplaystore_dropped=gxsplaystore_dropped[neworder]\n",
    "\n",
    "gxsplaystore_dropped=gxsplaystore_dropped.rename(columns={\n",
    "    'content': 'content',\n",
    "    'thumbsUpCount': 'thumbsUpCount',\n",
    "    'replyContent': 'replyContent',\n",
    "    'score': 'score',\n",
    "    'at':'date'\n",
    "})\n",
    "\n",
    "gxsapple_dropped_renamed = gxsapple_dropped.rename(columns={\n",
    "    'title_review': 'content',\n",
    "    'thumbsUp': 'thumbsUpCount',\n",
    "    'developerResponse': 'replyContent',\n",
    "    'rating': 'score',\n",
    "    'date':'date'\n",
    "})\n",
    "\n",
    "dataset = pd.concat([gxsplaystore_dropped, gxsapple_dropped_renamed], axis=0, ignore_index=True)\n",
    "if dataset['replyContent'].apply(lambda x: isinstance(x, dict)).any():\n",
    "    dataset['replyContent'] = dataset['replyContent'].apply(lambda x: json.dumps(x) if isinstance(x, dict) else x)\n"
   ]
  },
  {
   "cell_type": "code",
   "execution_count": 2,
   "metadata": {},
   "outputs": [],
   "source": [
    "#dataset = pd.read_csv('combined_reviews.csv', index_col=0)"
   ]
  },
  {
   "cell_type": "code",
   "execution_count": 5,
   "metadata": {},
   "outputs": [
    {
     "data": {
      "text/html": [
       "<div>\n",
       "<style scoped>\n",
       "    .dataframe tbody tr th:only-of-type {\n",
       "        vertical-align: middle;\n",
       "    }\n",
       "\n",
       "    .dataframe tbody tr th {\n",
       "        vertical-align: top;\n",
       "    }\n",
       "\n",
       "    .dataframe thead th {\n",
       "        text-align: right;\n",
       "    }\n",
       "</style>\n",
       "<table border=\"1\" class=\"dataframe\">\n",
       "  <thead>\n",
       "    <tr style=\"text-align: right;\">\n",
       "      <th></th>\n",
       "      <th>replyContent</th>\n",
       "      <th>score</th>\n",
       "      <th>content</th>\n",
       "      <th>thumbsUpCount</th>\n",
       "      <th>date</th>\n",
       "    </tr>\n",
       "  </thead>\n",
       "  <tbody>\n",
       "    <tr>\n",
       "      <th>0</th>\n",
       "      <td>Hi there! Thank you for your 5-star rating rev...</td>\n",
       "      <td>5</td>\n",
       "      <td>I like how the app is really light and fast co...</td>\n",
       "      <td>0</td>\n",
       "      <td>NaT</td>\n",
       "    </tr>\n",
       "    <tr>\n",
       "      <th>1</th>\n",
       "      <td>Hi Jerry, this feature isn't ready at the mome...</td>\n",
       "      <td>1</td>\n",
       "      <td>Cannot add card to google pay. Also cannot add...</td>\n",
       "      <td>0</td>\n",
       "      <td>NaT</td>\n",
       "    </tr>\n",
       "    <tr>\n",
       "      <th>2</th>\n",
       "      <td>Thanks for your feedback on mobile wallets and...</td>\n",
       "      <td>4</td>\n",
       "      <td>Generally good. However please add either NFC ...</td>\n",
       "      <td>0</td>\n",
       "      <td>NaT</td>\n",
       "    </tr>\n",
       "    <tr>\n",
       "      <th>3</th>\n",
       "      <td>Hi Eric. We're sorry to hear this. We would li...</td>\n",
       "      <td>1</td>\n",
       "      <td>With continuous failed to log in,contacted cso...</td>\n",
       "      <td>0</td>\n",
       "      <td>NaT</td>\n",
       "    </tr>\n",
       "    <tr>\n",
       "      <th>4</th>\n",
       "      <td>Hi Hafidz Melek! Thank you for your 5-star rat...</td>\n",
       "      <td>5</td>\n",
       "      <td>I don't get the negative reviews here. I insta...</td>\n",
       "      <td>0</td>\n",
       "      <td>NaT</td>\n",
       "    </tr>\n",
       "  </tbody>\n",
       "</table>\n",
       "</div>"
      ],
      "text/plain": [
       "                                        replyContent  score  \\\n",
       "0  Hi there! Thank you for your 5-star rating rev...      5   \n",
       "1  Hi Jerry, this feature isn't ready at the mome...      1   \n",
       "2  Thanks for your feedback on mobile wallets and...      4   \n",
       "3  Hi Eric. We're sorry to hear this. We would li...      1   \n",
       "4  Hi Hafidz Melek! Thank you for your 5-star rat...      5   \n",
       "\n",
       "                                             content  thumbsUpCount date  \n",
       "0  I like how the app is really light and fast co...              0  NaT  \n",
       "1  Cannot add card to google pay. Also cannot add...              0  NaT  \n",
       "2  Generally good. However please add either NFC ...              0  NaT  \n",
       "3  With continuous failed to log in,contacted cso...              0  NaT  \n",
       "4  I don't get the negative reviews here. I insta...              0  NaT  "
      ]
     },
     "execution_count": 5,
     "metadata": {},
     "output_type": "execute_result"
    }
   ],
   "source": [
    "dataset.head()"
   ]
  },
  {
   "cell_type": "code",
   "execution_count": 4,
   "metadata": {},
   "outputs": [],
   "source": [
    "sa_model = 'ajiayi/finetuning-sentiment-model-bank_reviews-otherbank'\n",
    "sentiment_pipeline = pipeline(\"sentiment-analysis\", model=sa_model)"
   ]
  },
  {
   "cell_type": "code",
   "execution_count": 5,
   "metadata": {},
   "outputs": [],
   "source": [
    "ke_model = KeyBERT()"
   ]
  },
  {
   "cell_type": "code",
   "execution_count": 6,
   "metadata": {},
   "outputs": [
    {
     "data": {
      "text/plain": [
       "[('rating', 0.5417),\n",
       " ('ratings', 0.4779),\n",
       " ('rate', 0.3851),\n",
       " ('app', 0.3224),\n",
       " ('unfair', 0.1467)]"
      ]
     },
     "execution_count": 6,
     "metadata": {},
     "output_type": "execute_result"
    }
   ],
   "source": [
    "ke_model.extract_keywords(dataset.content[50])"
   ]
  },
  {
   "cell_type": "code",
   "execution_count": 7,
   "metadata": {},
   "outputs": [],
   "source": [
    "sentiment = []\n",
    "keywords = []\n",
    "\n",
    "for index, row in dataset.iterrows():\n",
    "    s = sentiment_pipeline(row['content'])[0]['label']\n",
    "    sentiment.append(s)\n",
    "    k = ke_model.extract_keywords(row['content'])\n",
    "    #k = [i[0] for i in k]\n",
    "    if k == []:\n",
    "        k = ''\n",
    "    else: k = k[0][0]\n",
    "    keywords.append(k)\n",
    "\n",
    "dataset['sentiment'] = sentiment\n",
    "dataset['keywords'] = keywords\n"
   ]
  },
  {
   "cell_type": "code",
   "execution_count": 8,
   "metadata": {},
   "outputs": [
    {
     "data": {
      "text/html": [
       "<div>\n",
       "<style scoped>\n",
       "    .dataframe tbody tr th:only-of-type {\n",
       "        vertical-align: middle;\n",
       "    }\n",
       "\n",
       "    .dataframe tbody tr th {\n",
       "        vertical-align: top;\n",
       "    }\n",
       "\n",
       "    .dataframe thead th {\n",
       "        text-align: right;\n",
       "    }\n",
       "</style>\n",
       "<table border=\"1\" class=\"dataframe\">\n",
       "  <thead>\n",
       "    <tr style=\"text-align: right;\">\n",
       "      <th></th>\n",
       "      <th>replyContent</th>\n",
       "      <th>score</th>\n",
       "      <th>content</th>\n",
       "      <th>thumbsUpCount</th>\n",
       "      <th>sentiment</th>\n",
       "      <th>keywords</th>\n",
       "    </tr>\n",
       "  </thead>\n",
       "  <tbody>\n",
       "    <tr>\n",
       "      <th>0</th>\n",
       "      <td>Hey Jiaxing! Hope you love the new \"Favourites...</td>\n",
       "      <td>5</td>\n",
       "      <td>Gxs is simple and easy to use, with a saving a...</td>\n",
       "      <td>13</td>\n",
       "      <td>POSITIVE</td>\n",
       "      <td>[gxs, funds, debit, investment, card]</td>\n",
       "    </tr>\n",
       "    <tr>\n",
       "      <th>1</th>\n",
       "      <td>We apologize for the inconvenience you had to ...</td>\n",
       "      <td>3</td>\n",
       "      <td>It always ask for finger identification even t...</td>\n",
       "      <td>0</td>\n",
       "      <td>NEGATIVE</td>\n",
       "      <td>[finger, identification, ask, given]</td>\n",
       "    </tr>\n",
       "    <tr>\n",
       "      <th>2</th>\n",
       "      <td>Hi Sean, we understand your concern and we wou...</td>\n",
       "      <td>1</td>\n",
       "      <td>What I've installed on my phone is none of you...</td>\n",
       "      <td>0</td>\n",
       "      <td>NEGATIVE</td>\n",
       "      <td>[apps, app, whitelist, phone, using]</td>\n",
       "    </tr>\n",
       "    <tr>\n",
       "      <th>3</th>\n",
       "      <td>Hi Xiangqing, we'd love to look into this for ...</td>\n",
       "      <td>1</td>\n",
       "      <td>cant logging using finger print . previously s...</td>\n",
       "      <td>0</td>\n",
       "      <td>NEGATIVE</td>\n",
       "      <td>[logging, finger, print, update, using]</td>\n",
       "    </tr>\n",
       "    <tr>\n",
       "      <th>4</th>\n",
       "      <td>Hi Matt, thanks for reaching out! If you are r...</td>\n",
       "      <td>1</td>\n",
       "      <td>For 1st time registration signup by singpass a...</td>\n",
       "      <td>0</td>\n",
       "      <td>NEGATIVE</td>\n",
       "      <td>[singpass, signup, registration, denied, appli...</td>\n",
       "    </tr>\n",
       "  </tbody>\n",
       "</table>\n",
       "</div>"
      ],
      "text/plain": [
       "                                        replyContent  score  \\\n",
       "0  Hey Jiaxing! Hope you love the new \"Favourites...      5   \n",
       "1  We apologize for the inconvenience you had to ...      3   \n",
       "2  Hi Sean, we understand your concern and we wou...      1   \n",
       "3  Hi Xiangqing, we'd love to look into this for ...      1   \n",
       "4  Hi Matt, thanks for reaching out! If you are r...      1   \n",
       "\n",
       "                                             content  thumbsUpCount sentiment  \\\n",
       "0  Gxs is simple and easy to use, with a saving a...             13  POSITIVE   \n",
       "1  It always ask for finger identification even t...              0  NEGATIVE   \n",
       "2  What I've installed on my phone is none of you...              0  NEGATIVE   \n",
       "3  cant logging using finger print . previously s...              0  NEGATIVE   \n",
       "4  For 1st time registration signup by singpass a...              0  NEGATIVE   \n",
       "\n",
       "                                            keywords  \n",
       "0              [gxs, funds, debit, investment, card]  \n",
       "1               [finger, identification, ask, given]  \n",
       "2               [apps, app, whitelist, phone, using]  \n",
       "3            [logging, finger, print, update, using]  \n",
       "4  [singpass, signup, registration, denied, appli...  "
      ]
     },
     "execution_count": 8,
     "metadata": {},
     "output_type": "execute_result"
    }
   ],
   "source": [
    "dataset.head()"
   ]
  },
  {
   "cell_type": "code",
   "execution_count": 9,
   "metadata": {},
   "outputs": [],
   "source": [
    "#dataset.to_csv('sentiment_data.csv')\n",
    "# Load database configuration from JSON file\n",
    "with open('config.json') as config_file:\n",
    "    config = json.load(config_file)['database']\n",
    "\n",
    "# Construct the connection string using the loaded configuration\n",
    "user = config['user']\n",
    "password = config['password']\n",
    "host = config['host']\n",
    "dbname = config['database']\n",
    "port = config['port']\n",
    "conn_string = f'mysql+mysqlconnector://{user}:{password}@{host}:{port}/{dbname}'\n",
    "\n",
    "# Create an engine\n",
    "engine = create_engine(conn_string)\n",
    "\n",
    "dataset.to_sql(name='sentiment_data', con=engine, if_exists='replace', index=False)"
   ]
  }
 ],
 "metadata": {
  "kernelspec": {
   "display_name": "Python 3",
   "language": "python",
   "name": "python3"
  },
  "language_info": {
   "codemirror_mode": {
    "name": "ipython",
    "version": 3
   },
   "file_extension": ".py",
   "mimetype": "text/x-python",
   "name": "python",
   "nbconvert_exporter": "python",
   "pygments_lexer": "ipython3",
   "version": "3.10.9"
  }
 },
 "nbformat": 4,
 "nbformat_minor": 2
}
